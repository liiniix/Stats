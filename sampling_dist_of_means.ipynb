{
 "cells": [
  {
   "cell_type": "code",
   "execution_count": 1,
   "metadata": {},
   "outputs": [],
   "source": [
    "import matplotlib.pyplot as plt\n",
    "import numpy as np"
   ]
  },
  {
   "cell_type": "code",
   "execution_count": 6,
   "metadata": {},
   "outputs": [],
   "source": [
    "samples = np.random.randint(1, 7, (100000, 5)) # process: toss dice 5 times # continue process 10000 times"
   ]
  },
  {
   "cell_type": "code",
   "execution_count": 7,
   "metadata": {},
   "outputs": [],
   "source": [
    "sample_means = samples.mean(axis=1) # take mean of the processes"
   ]
  },
  {
   "cell_type": "code",
   "execution_count": 9,
   "metadata": {},
   "outputs": [
    {
     "data": {
      "text/plain": [
       "(array([   77.,   194.,   410.,   896.,  1617.,  2582.,  3938.,  5403.,\n",
       "         7017.,  8264.,  9531., 20086.,  9409.,  8461.,  6878.,  5442.,\n",
       "         3915.,  2629.,  1623.,   894.,   461.,   191.,    82.]),\n",
       " array([1.        , 1.2173913 , 1.43478261, 1.65217391, 1.86956522,\n",
       "        2.08695652, 2.30434783, 2.52173913, 2.73913043, 2.95652174,\n",
       "        3.17391304, 3.39130435, 3.60869565, 3.82608696, 4.04347826,\n",
       "        4.26086957, 4.47826087, 4.69565217, 4.91304348, 5.13043478,\n",
       "        5.34782609, 5.56521739, 5.7826087 , 6.        ]),\n",
       " <a list of 23 Patch objects>)"
      ]
     },
     "execution_count": 9,
     "metadata": {},
     "output_type": "execute_result"
    },
    {
     "data": {
      "image/png": "[encoded data removed]",
      "text/plain": [
       "<Figure size 432x288 with 1 Axes>"
      ]
     },
     "metadata": {
      "needs_background": "light"
     },
     "output_type": "display_data"
    }
   ],
   "source": [
    "plt.hist(sample_means, bins=23)"
   ]
  },
  {
   "cell_type": "code",
   "execution_count": null,
   "metadata": {},
   "outputs": [],
   "source": []
  }
 ],
 "metadata": {
  "kernelspec": {
   "display_name": "Python 3.6.9 64-bit",
   "language": "python",
   "name": "python36964bitbe4a55f02b4d487ab9d485b644b96077"
  },
  "language_info": {
   "codemirror_mode": {
    "name": "ipython",
    "version": 3
   },
   "file_extension": ".py",
   "mimetype": "text/x-python",
   "name": "python",
   "nbconvert_exporter": "python",
   "pygments_lexer": "ipython3",
   "version": "3.6.9"
  }
 },
 "nbformat": 4,
 "nbformat_minor": 2
}
