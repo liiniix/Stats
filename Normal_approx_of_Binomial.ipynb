{
 "cells": [
  {
   "cell_type": "markdown",
   "metadata": {},
   "source": [
    "## Mail sent to 40000 addresses.\n",
    "## Probability of getting reply of one mail among n is $p = .03$\n",
    "## Probability of not getting reply of one mail among n is $p = .97$\n",
    "## This process is binomial\n",
    "## This process is simulated some times.\n",
    "## Let's see how much mail is responded"
   ]
  },
  {
   "cell_type": "code",
   "execution_count": 4,
   "metadata": {},
   "outputs": [],
   "source": [
    "import matplotlib.pyplot as plt\n",
    "import numpy as np"
   ]
  },
  {
   "cell_type": "code",
   "execution_count": 20,
   "metadata": {},
   "outputs": [],
   "source": [
    "samples = np.random.binomial(n = 40000, p = .03, size=1000000) # drawn samples 100000 times"
   ]
  },
  {
   "cell_type": "code",
   "execution_count": 21,
   "metadata": {},
   "outputs": [
    {
     "data": {
      "text/plain": [
       "array([1207, 1165, 1204, ..., 1138, 1221, 1177])"
      ]
     },
     "execution_count": 21,
     "metadata": {},
     "output_type": "execute_result"
    }
   ],
   "source": [
    "samples"
   ]
  },
  {
   "cell_type": "code",
   "execution_count": 22,
   "metadata": {},
   "outputs": [
    {
     "data": {
      "text/plain": [
       "(array([  1.00000000e+00,   3.00000000e+00,   4.00000000e+00,\n",
       "          9.00000000e+00,   3.40000000e+01,   6.10000000e+01,\n",
       "          1.13000000e+02,   2.29000000e+02,   4.10000000e+02,\n",
       "          6.51000000e+02,   1.13500000e+03,   1.84100000e+03,\n",
       "          2.89200000e+03,   4.49400000e+03,   6.64500000e+03,\n",
       "          9.96300000e+03,   1.38760000e+04,   1.87810000e+04,\n",
       "          2.48840000e+04,   3.16410000e+04,   3.85150000e+04,\n",
       "          4.60680000e+04,   5.34720000e+04,   6.02320000e+04,\n",
       "          6.50860000e+04,   6.84970000e+04,   7.03880000e+04,\n",
       "          5.76640000e+04,   6.69490000e+04,   6.26230000e+04,\n",
       "          5.69260000e+04,   5.04090000e+04,   4.27500000e+04,\n",
       "          3.56880000e+04,   2.86260000e+04,   2.26270000e+04,\n",
       "          1.70930000e+04,   1.22670000e+04,   8.94000000e+03,\n",
       "          6.26200000e+03,   4.16500000e+03,   2.80200000e+03,\n",
       "          1.75300000e+03,   1.06100000e+03,   6.21000000e+02,\n",
       "          3.59000000e+02,   2.40000000e+02,   1.08000000e+02,\n",
       "          6.60000000e+01,   4.10000000e+01,   2.00000000e+01,\n",
       "          4.00000000e+00,   2.00000000e+00,   7.00000000e+00,\n",
       "          2.00000000e+00]),\n",
       " array([ 1040.        ,  1045.96363636,  1051.92727273,  1057.89090909,\n",
       "         1063.85454545,  1069.81818182,  1075.78181818,  1081.74545455,\n",
       "         1087.70909091,  1093.67272727,  1099.63636364,  1105.6       ,\n",
       "         1111.56363636,  1117.52727273,  1123.49090909,  1129.45454545,\n",
       "         1135.41818182,  1141.38181818,  1147.34545455,  1153.30909091,\n",
       "         1159.27272727,  1165.23636364,  1171.2       ,  1177.16363636,\n",
       "         1183.12727273,  1189.09090909,  1195.05454545,  1201.01818182,\n",
       "         1206.98181818,  1212.94545455,  1218.90909091,  1224.87272727,\n",
       "         1230.83636364,  1236.8       ,  1242.76363636,  1248.72727273,\n",
       "         1254.69090909,  1260.65454545,  1266.61818182,  1272.58181818,\n",
       "         1278.54545455,  1284.50909091,  1290.47272727,  1296.43636364,\n",
       "         1302.4       ,  1308.36363636,  1314.32727273,  1320.29090909,\n",
       "         1326.25454545,  1332.21818182,  1338.18181818,  1344.14545455,\n",
       "         1350.10909091,  1356.07272727,  1362.03636364,  1368.        ]),\n",
       " <a list of 55 Patch objects>)"
      ]
     },
     "execution_count": 22,
     "metadata": {},
     "output_type": "execute_result"
    },
    {
     "data": {
      "image/png": "[encoded data removed]",
      "text/plain": [
       "<Figure size 432x288 with 1 Axes>"
      ]
     },
     "metadata": {
      "needs_background": "light"
     },
     "output_type": "display_data"
    }
   ],
   "source": [
    "plt.hist(samples, bins=55)"
   ]
  },
  {
   "cell_type": "code",
   "execution_count": null,
   "metadata": {},
   "outputs": [],
   "source": []
  },
  {
   "cell_type": "code",
   "execution_count": null,
   "metadata": {},
   "outputs": [],
   "source": []
  }
 ],
 "metadata": {
  "kernelspec": {
   "display_name": "Python 3",
   "language": "python",
   "name": "python3"
  },
  "language_info": {
   "codemirror_mode": {
    "name": "ipython",
    "version": 3
   },
   "file_extension": ".py",
   "mimetype": "text/x-python",
   "name": "python",
   "nbconvert_exporter": "python",
   "pygments_lexer": "ipython3",
   "version": "3.5.2"
  }
 },
 "nbformat": 4,
 "nbformat_minor": 2
}
