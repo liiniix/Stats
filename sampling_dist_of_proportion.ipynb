{
 "cells": [
  {
   "cell_type": "code",
   "execution_count": 3,
   "metadata": {},
   "outputs": [],
   "source": [
    "import matplotlib.pyplot as plt\n",
    "import numpy as np"
   ]
  },
  {
   "cell_type": "code",
   "execution_count": 4,
   "metadata": {},
   "outputs": [],
   "source": [
    "samples = np.random.randint(1, 7, (10000, 5))"
   ]
  },
  {
   "cell_type": "code",
   "execution_count": 10,
   "metadata": {},
   "outputs": [],
   "source": [
    "sample_props = len(samples[samples%2==0])"
   ]
  },
  {
   "cell_type": "code",
   "execution_count": 17,
   "metadata": {},
   "outputs": [],
   "source": [
    "sample_props = [len(i[i%2==1])/len(i) for i in samples]"
   ]
  },
  {
   "cell_type": "code",
   "execution_count": 22,
   "metadata": {},
   "outputs": [
    {
     "data": {
      "text/plain": [
       "(array([ 295.,    0.,    0., 1557.,    0.,    0., 3130.,    0.,    0.,\n",
       "        3187.,    0.,    0., 1508.,    0.,  323.]),\n",
       " array([0.        , 0.06666667, 0.13333333, 0.2       , 0.26666667,\n",
       "        0.33333333, 0.4       , 0.46666667, 0.53333333, 0.6       ,\n",
       "        0.66666667, 0.73333333, 0.8       , 0.86666667, 0.93333333,\n",
       "        1.        ]),\n",
       " <a list of 15 Patch objects>)"
      ]
     },
     "execution_count": 22,
     "metadata": {},
     "output_type": "execute_result"
    },
    {
     "data": {
      "image/png": "[encoded data removed]",
      "text/plain": [
       "<Figure size 432x288 with 1 Axes>"
      ]
     },
     "metadata": {
      "needs_background": "light"
     },
     "output_type": "display_data"
    }
   ],
   "source": [
    "plt.hist(sample_props, bins=15)"
   ]
  },
  {
   "cell_type": "code",
   "execution_count": 16,
   "metadata": {},
   "outputs": [
    {
     "data": {
      "text/plain": [
       "array([[1, 4, 4, 2, 5],\n",
       "       [5, 5, 2, 4, 6],\n",
       "       [2, 3, 1, 4, 6],\n",
       "       ...,\n",
       "       [6, 5, 2, 3, 4],\n",
       "       [2, 3, 1, 4, 2],\n",
       "       [4, 1, 6, 3, 5]])"
      ]
     },
     "execution_count": 16,
     "metadata": {},
     "output_type": "execute_result"
    }
   ],
   "source": [
    "samples"
   ]
  },
  {
   "cell_type": "code",
   "execution_count": null,
   "metadata": {},
   "outputs": [],
   "source": []
  }
 ],
 "metadata": {
  "kernelspec": {
   "display_name": "Python 3.6.9 64-bit",
   "language": "python",
   "name": "python36964bitbe4a55f02b4d487ab9d485b644b96077"
  },
  "language_info": {
   "codemirror_mode": {
    "name": "ipython",
    "version": 3
   },
   "file_extension": ".py",
   "mimetype": "text/x-python",
   "name": "python",
   "nbconvert_exporter": "python",
   "pygments_lexer": "ipython3",
   "version": "3.6.9"
  }
 },
 "nbformat": 4,
 "nbformat_minor": 2
}
